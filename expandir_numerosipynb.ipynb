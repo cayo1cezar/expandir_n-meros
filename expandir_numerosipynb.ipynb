{
  "nbformat": 4,
  "nbformat_minor": 0,
  "metadata": {
    "colab": {
      "provenance": [],
      "authorship_tag": "ABX9TyNlmia6vYBak6DC9OFx3LXr",
      "include_colab_link": true
    },
    "kernelspec": {
      "name": "python3",
      "display_name": "Python 3"
    },
    "language_info": {
      "name": "python"
    }
  },
  "cells": [
    {
      "cell_type": "markdown",
      "metadata": {
        "id": "view-in-github",
        "colab_type": "text"
      },
      "source": [
        "<a href=\"https://colab.research.google.com/github/cayo1cezar/expandir_n-meros/blob/main/expandir_numerosipynb.ipynb\" target=\"_parent\"><img src=\"https://colab.research.google.com/assets/colab-badge.svg\" alt=\"Open In Colab\"/></a>"
      ]
    },
    {
      "cell_type": "code",
      "source": [
        "pip install num2words\n"
      ],
      "metadata": {
        "colab": {
          "base_uri": "https://localhost:8080/"
        },
        "id": "tUhdIus8d7DD",
        "outputId": "76fb4bae-972e-4c3c-910c-bef0aeca3b06"
      },
      "execution_count": 6,
      "outputs": [
        {
          "output_type": "stream",
          "name": "stdout",
          "text": [
            "Looking in indexes: https://pypi.org/simple, https://us-python.pkg.dev/colab-wheels/public/simple/\n",
            "Collecting num2words\n",
            "  Downloading num2words-0.5.12-py3-none-any.whl (125 kB)\n",
            "\u001b[2K     \u001b[90m━━━━━━━━━━━━━━━━━━━━━━━━━━━━━━━━━━━━━━━\u001b[0m \u001b[32m125.2/125.2 KB\u001b[0m \u001b[31m4.4 MB/s\u001b[0m eta \u001b[36m0:00:00\u001b[0m\n",
            "\u001b[?25hCollecting docopt>=0.6.2\n",
            "  Downloading docopt-0.6.2.tar.gz (25 kB)\n",
            "  Preparing metadata (setup.py) ... \u001b[?25l\u001b[?25hdone\n",
            "Building wheels for collected packages: docopt\n",
            "  Building wheel for docopt (setup.py) ... \u001b[?25l\u001b[?25hdone\n",
            "  Created wheel for docopt: filename=docopt-0.6.2-py2.py3-none-any.whl size=13723 sha256=9726379d665f04e0a917ba00e9ba3719880fc6eed49e3d9a4f5495acfa3b4cae\n",
            "  Stored in directory: /root/.cache/pip/wheels/56/ea/58/ead137b087d9e326852a851351d1debf4ada529b6ac0ec4e8c\n",
            "Successfully built docopt\n",
            "Installing collected packages: docopt, num2words\n",
            "Successfully installed docopt-0.6.2 num2words-0.5.12\n"
          ]
        }
      ]
    },
    {
      "cell_type": "code",
      "source": [
        "from num2words import num2words\n",
        "\n",
        "def escrever_por_extenso():\n",
        "    # Lê o número e a unidade de medida do usuário\n",
        "    numero = input(\"Digite um número: \")\n",
        "    unidade = input(\"Digite a unidade de medida: \")\n",
        "\n",
        "    # Converte o número para extenso\n",
        "    extenso = num2words(numero, lang='pt')\n",
        "\n",
        "    # Dicionário com as unidades de medida\n",
        "    medidas = {\n",
        "        \"'\": \"polegadas\",\n",
        "        \"cm\": \"centímetros\",\n",
        "        \"m\": \"metros\",\n",
        "        \"M\": \"metros\",\n",
        "        \"/\": \"Sobre\"\n",
        "        \n",
        "    }\n",
        "\n",
        "    # Verifica se a unidade de medida está no dicionário\n",
        "    if unidade in medidas:\n",
        "        extenso += \" \" + medidas[unidade]\n",
        "    else:\n",
        "        extenso += \" unidade desconhecida\"\n",
        "\n",
        "    # Imprime o número e a unidade de medida por extenso\n",
        "    print(extenso)\n",
        "\n",
        "#Chama a função\n",
        "escrever_por_extenso()\n",
        "\n"
      ],
      "metadata": {
        "colab": {
          "base_uri": "https://localhost:8080/"
        },
        "id": "4qDqGnRpd9GC",
        "outputId": "84e7530e-73f0-4cfd-95e4-d38977ff4759"
      },
      "execution_count": 15,
      "outputs": [
        {
          "output_type": "stream",
          "name": "stdout",
          "text": [
            "Digite um número: 789\n",
            "Digite a unidade de medida: cm\n",
            "setecentos e oitenta e nove centímetros\n"
          ]
        }
      ]
    }
  ]
}