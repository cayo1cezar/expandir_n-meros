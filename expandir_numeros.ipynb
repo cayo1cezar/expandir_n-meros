{
  "nbformat": 4,
  "nbformat_minor": 0,
  "metadata": {
    "colab": {
      "provenance": [],
      "authorship_tag": "ABX9TyNNH1L8TbfGaOEi7M8TAhm7",
      "include_colab_link": true
    },
    "kernelspec": {
      "name": "python3",
      "display_name": "Python 3"
    },
    "language_info": {
      "name": "python"
    }
  },
  "cells": [
    {
      "cell_type": "markdown",
      "metadata": {
        "id": "view-in-github",
        "colab_type": "text"
      },
      "source": [
        "<a href=\"https://colab.research.google.com/github/cayo1cezar/expandir_n-meros/blob/main/expandir_numeros.ipynb\" target=\"_parent\"><img src=\"https://colab.research.google.com/assets/colab-badge.svg\" alt=\"Open In Colab\"/></a>"
      ]
    },
    {
      "cell_type": "code",
      "source": [
        "def number_to_words(number, unit=None):\n",
        "    digit_words = {\n",
        "        0: 'zero', 1: 'um', 2: 'dois', 3: 'três', 4: 'quatro',\n",
        "        5: 'cinco', 6: 'seis', 7: 'sete', 8: 'oito', 9: 'nove'\n",
        "    }\n",
        "    tens_words = {\n",
        "        2: 'vinte', 3: 'trinta', 4: 'quarenta', 5: 'cinquenta', 6: 'sessenta',\n",
        "        7: 'setenta', 8: 'oitenta', 9: 'noventa'\n",
        "    }\n",
        "    tens_and_digit_words = {\n",
        "        10: 'dez', 11: 'onze', 12: 'doze', 13: 'treze', 14: 'catorze',\n",
        "        15: 'quinze', 16: 'dezesseis', 17: 'dezessete', 18: 'dezoito', 19: 'dezenove'\n",
        "    }\n",
        "    hundreds_words = {\n",
        "        1: 'cento', 2: 'duzentos', 3: 'trezentos', 4: 'quatrocentos', 5: 'quinhentos',\n",
        "        6: 'seiscentos', 7: 'setecentos', 8: 'oitocentos', 9: 'novecentos'\n",
        "    }\n",
        "    groups_words = {\n",
        "        1: 'mil', 2: 'milhão', 3: 'bilhão', 4: 'trilhão'\n",
        "    }\n",
        "    units_words = {\n",
        "        \"'\": 'polegadas', 'cm': 'centímetros', 'm': 'metros', 'M': 'metros'\n",
        "    }\n",
        "\n",
        "    def escreva_grupo(grupo, index):\n",
        "        result = \"\"\n",
        "        if grupo < 100:\n",
        "            if grupo < 20:\n",
        "                result = tens_and_digit_words[grupo]\n",
        "            else:\n",
        "                tens = grupo // 10\n",
        "                units = grupo % 10\n",
        "                result = tens_words[tens]\n",
        "                if units != 0:\n",
        "                    result += \" e \"+ digit_words[units]\n",
        "        else:\n",
        "            hundreds = grupo // 100\n",
        "            rest = grupo % 100\n",
        "            result = hundreds_words[hundreds] + \" e \"\n",
        "            if rest != 0:\n",
        "                result += escreva_grupo(rest, 0)\n",
        "        if index > 0:\n",
        "            result += \" \" + groups_words[index]\n",
        "        return result\n",
        "    result = \"\"\n",
        "    if number < 100:\n",
        "        if number < 20:\n",
        "            result = tens_and_digit_words[number]\n",
        "        else:\n",
        "            tens = number // 10\n",
        "            units = number % 10\n",
        "            result = tens_words[tens]\n",
        "            if units != 0:\n",
        "                result += \" e \"+ digit_words[units]\n",
        "    elif number < 1000:\n",
        "        hundreds = number // 100\n",
        "        rest = number % 100\n",
        "        result = hundreds_words[hundreds] + \" e \"\n",
        "        if rest != 0:\n",
        "            result += escreva_grupo(rest, 0)\n",
        "    else:\n",
        "        groups = []\n",
        "        number_str = str(number)[::-1]\n",
        "        for i in range(0, len(number_str), 3):\n",
        "            groups.append(int(number_str[i:i+3][::-1]))\n",
        "        groups = groups[::-1]\n",
        "        index = len(groups)\n",
        "        for i, group in enumerate(groups):\n",
        "            if group != 0:\n",
        "                result += escreva_grupo(group, index)\n",
        "                index -= 1\n",
        "    if unit:\n",
        "        if unit in units_words:\n",
        "            unit = units_words[unit]\n",
        "        result += \" \"+unit\n",
        "    return result\n",
        "\n"
      ],
      "metadata": {
        "id": "QSPs6XeSdeQP"
      },
      "execution_count": 1,
      "outputs": []
    },
    {
      "cell_type": "code",
      "source": [
        "print(number_to_words(445, \"'\"))"
      ],
      "metadata": {
        "colab": {
          "base_uri": "https://localhost:8080/"
        },
        "id": "ysPuegOOdtEG",
        "outputId": "f239b95f-79de-4e35-e82f-537221d01169"
      },
      "execution_count": 5,
      "outputs": [
        {
          "output_type": "stream",
          "name": "stdout",
          "text": [
            "quatrocentos e quarenta e cinco polegadas\n"
          ]
        }
      ]
    }
  ]
}